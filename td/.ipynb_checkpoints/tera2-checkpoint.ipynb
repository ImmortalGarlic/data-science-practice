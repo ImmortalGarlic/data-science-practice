{
 "cells": [
  {
   "cell_type": "code",
   "execution_count": 19,
   "metadata": {},
   "outputs": [
    {
     "name": "stdout",
     "output_type": "stream",
     "text": [
      "['checking_status', 'loan_history', 'purpose', 'savings_status', 'employment', 'personal_status', 'other_parties', 'property_magnitude', 'other_payment_plans', 'housing', 'existing_loans', 'job', 'own_telephone', 'foreign_worker']\n"
     ]
    }
   ],
   "source": [
    "import pandas as pd\n",
    "\n",
    "train_data = pd.read_csv('./loan_data_track1.csv')\n",
    "cols_dummy = [col for col in train_data.columns if train_data[col].dtype != 'int64']\n",
    "print (cols_dummy)\n",
    "train_df = pd.get_dummies(train_data, columns=cols_dummy)\n",
    "\n",
    "X = train_df.drop(['accepted'], axis=1).as_matrix()\n",
    "y = train_df['accepted'].as_matrix()\n",
    "\n",
    "from sklearn.linear_model import LogisticRegression\n",
    "from sklearn.ensemble import RandomForestClassifier"
   ]
  },
  {
   "cell_type": "code",
   "execution_count": 11,
   "metadata": {},
   "outputs": [
    {
     "data": {
      "text/plain": [
       "['checking_status',\n",
       " 'loan_history',\n",
       " 'purpose',\n",
       " 'savings_status',\n",
       " 'employment',\n",
       " 'personal_status',\n",
       " 'other_parties',\n",
       " 'property_magnitude',\n",
       " 'other_payment_plans',\n",
       " 'housing',\n",
       " 'existing_loans',\n",
       " 'job',\n",
       " 'own_telephone',\n",
       " 'foreign_worker']"
      ]
     },
     "execution_count": 11,
     "metadata": {},
     "output_type": "execute_result"
    }
   ],
   "source": [
    "cols_dummy"
   ]
  },
  {
   "cell_type": "code",
   "execution_count": 12,
   "metadata": {},
   "outputs": [
    {
     "name": "stdout",
     "output_type": "stream",
     "text": [
      "checking_status : \n",
      "None          394\n",
      "<0DM          274\n",
      "0_to_200DM    269\n",
      ">200DM         63\n",
      "Name: checking_status, dtype: int64\n",
      " \n",
      "loan_history : \n",
      "Existing_loans_paid_till_now          530\n",
      "Critical_acct_other_loans_existing    293\n",
      "Delay_in_past                          88\n",
      "All_loans_paid_duly                    49\n",
      "No_loans_taken_or_all_paid             40\n",
      "Name: loan_history, dtype: int64\n",
      " \n",
      "purpose : \n",
      "radio/television       280\n",
      "new_car                234\n",
      "furniture/equipment    181\n",
      "used_car               103\n",
      "business                97\n",
      "education               50\n",
      "repairs                 22\n",
      "domestic_appliances     12\n",
      "other                   12\n",
      "retraining               9\n",
      "Name: purpose, dtype: int64\n",
      " \n",
      "savings_status : \n",
      "<100DM                        603\n",
      "Unknown_or_no_savings_acct    183\n",
      "100_to_500DM                  103\n",
      "500_to_1000DM                  63\n",
      ">1000DM                        48\n",
      "Name: savings_status, dtype: int64\n",
      " \n",
      "employment : \n",
      "1_to_4yrs     339\n",
      ">7yrs         253\n",
      "4_to_7yrs     174\n",
      "<1yr          172\n",
      "unemployed     62\n",
      "Name: employment, dtype: int64\n",
      " \n",
      "personal_status : \n",
      "male_single                          548\n",
      "female_divorced/separated/married    310\n",
      "male_married/widowed                  92\n",
      "male_divorced/separated               50\n",
      "Name: personal_status, dtype: int64\n",
      " \n",
      "other_parties : \n",
      "None            907\n",
      "guarantor        52\n",
      "co-applicant     41\n",
      "Name: other_parties, dtype: int64\n",
      " \n",
      "property_magnitude : \n",
      "car_or_other_nonsavings                              332\n",
      "real_estate                                          282\n",
      "building_society_savings_agreement/life_insurance    232\n",
      "unknown/no_property                                  154\n",
      "Name: property_magnitude, dtype: int64\n",
      " \n",
      "other_payment_plans : \n",
      "none      814\n",
      "bank      139\n",
      "stores     47\n",
      "Name: other_payment_plans, dtype: int64\n",
      " \n",
      "housing : \n",
      "own         713\n",
      "rent        179\n",
      "for_free    108\n",
      "Name: housing, dtype: int64\n",
      " \n",
      "existing_loans : \n",
      "1        179\n",
      "22       100\n",
      "z1        17\n",
      "f1        14\n",
      "s1        13\n",
      "i1        13\n",
      "e1        13\n",
      "n1        13\n",
      "w1        13\n",
      "333       12\n",
      "o1        12\n",
      "a1        12\n",
      "k1        12\n",
      "x1        12\n",
      "g1        12\n",
      "u1        12\n",
      "p1        12\n",
      "q1        12\n",
      "w22       11\n",
      "t1        11\n",
      "m1        11\n",
      "f22       11\n",
      "b1        11\n",
      "y1        11\n",
      "r1        10\n",
      "d1        10\n",
      "j1         9\n",
      "c1         9\n",
      "l1         8\n",
      "r22        8\n",
      "        ... \n",
      "qx1        1\n",
      "ov1        1\n",
      "mq1        1\n",
      "hx1        1\n",
      "ul1        1\n",
      "fq22       1\n",
      "g333       1\n",
      "wj1        1\n",
      "mm1        1\n",
      "a333       1\n",
      "zm22       1\n",
      "wo1        1\n",
      "br22       1\n",
      "vu1        1\n",
      "ef22       1\n",
      "fe1        1\n",
      "gh22       1\n",
      "bc1        1\n",
      "sv22       1\n",
      "xbw22      1\n",
      "my1        1\n",
      "wd1        1\n",
      "jup22      1\n",
      "vr22       1\n",
      "tq22       1\n",
      "gr1        1\n",
      "vgn1       1\n",
      "va22       1\n",
      "yi1        1\n",
      "xq1        1\n",
      "Name: existing_loans, Length: 301, dtype: int64\n",
      " \n",
      "job : \n",
      "skilled_employee/official                            630\n",
      "unskilled_resident                                   200\n",
      "management_self-employed_highly_qualified/officer    148\n",
      "unemployed/unskilled_nonresident                      22\n",
      "Name: job, dtype: int64\n",
      " \n",
      "own_telephone : \n",
      "No     596\n",
      "Yes    404\n",
      "Name: own_telephone, dtype: int64\n",
      " \n",
      "foreign_worker : \n",
      "yes    963\n",
      "no      37\n",
      "Name: foreign_worker, dtype: int64\n",
      " \n"
     ]
    }
   ],
   "source": [
    "for col in cols_dummy:\n",
    "    print (col, ': ')\n",
    "    print (train_data[col].value_counts())\n",
    "    print (' ')"
   ]
  },
  {
   "cell_type": "code",
   "execution_count": 21,
   "metadata": {},
   "outputs": [
    {
     "data": {
      "text/plain": [
       "['duration',\n",
       " 'loan_amount',\n",
       " 'installment_commitment',\n",
       " 'residence_since',\n",
       " 'age',\n",
       " 'num_dependents',\n",
       " 'accepted']"
      ]
     },
     "execution_count": 21,
     "metadata": {},
     "output_type": "execute_result"
    }
   ],
   "source": [
    "cols_numerical = [col for col in train_data.columns if train_data[col].dtype == 'int64']\n",
    "cols_numerical"
   ]
  },
  {
   "cell_type": "code",
   "execution_count": 18,
   "metadata": {},
   "outputs": [
    {
     "name": "stdout",
     "output_type": "stream",
     "text": [
      "Accuracy: 0.747 (+/- 0.010770329614269018) [Logistic Regression]\n",
      "Accuracy: 0.719 (+/- 0.016552945357246864) [Random Forest]\n",
      "Accuracy: 0.6380000000000001 (+/- 0.03187475490101849) [naive Bayes]\n",
      "Accuracy: 0.7009999999999998 (+/- 0.004898979485566361) [Multi-Layer Perceptron]\n",
      "Accuracy: 0.712 (+/- 0.02063976744055027) [Bagging_DT]\n",
      "Accuracy: 0.736 (+/- 0.014628738838327807) [Ensemble]\n"
     ]
    }
   ],
   "source": [
    "from sklearn import datasets\n",
    "from sklearn.model_selection import cross_val_score\n",
    "from sklearn.linear_model import LogisticRegression\n",
    "from sklearn.naive_bayes import GaussianNB\n",
    "from sklearn.neural_network import MLPClassifier\n",
    "from sklearn.ensemble import RandomForestClassifier\n",
    "from sklearn.ensemble import BaggingClassifier\n",
    "from sklearn import tree\n",
    "from sklearn.ensemble import VotingClassifier\n",
    "\n",
    "col_to_drop = ['other_parties', 'other_payment_plans', 'existing_loans']\n",
    "train_data_dropped = train_data.drop(col_to_drop, axis=1)\n",
    "cols_dummy_dropped = [col for col in train_data_dropped.columns if train_data_dropped[col].dtype != 'int64']\n",
    "cols_dummy_dropped.append('')\n",
    "train_df_dropped = pd.get_dummies(train_data_dropped, columns=cols_dummy_dropped)\n",
    "\n",
    "X_ = train_df_dropped.drop(['accepted'], axis=1).as_matrix()\n",
    "y_ = train_df_dropped['accepted'].as_matrix()\n",
    "\n",
    "clf1 = LogisticRegression(random_state=1)\n",
    "clf2 = RandomForestClassifier(random_state=1)\n",
    "clf3 = GaussianNB()\n",
    "clf4 = MLPClassifier(hidden_layer_sizes=100, solver='lbfgs')\n",
    "clf5 = BaggingClassifier(tree.DecisionTreeClassifier(), max_samples=1.0, max_features=0.5)\n",
    "\n",
    "eclf = VotingClassifier(estimators=[('lr', clf1), ('rf', clf2), ('gnb', clf3), ('mlp', clf4), ('bagging', clf5)], voting='soft', weights=[3, 3, 1, 1, 2])\n",
    "\n",
    "for clf, label in zip([clf1, clf2, clf3, clf4, clf5, eclf], ['Logistic Regression', 'Random Forest', 'naive Bayes', 'Multi-Layer Perceptron', 'Bagging_DT', 'Ensemble']):\n",
    "    scores = cross_val_score(clf, X_, y_, cv=5, scoring='accuracy')\n",
    "    print(\"Accuracy: {} (+/- {}) [{}]\".format(scores.mean(), scores.std(), label))"
   ]
  },
  {
   "cell_type": "markdown",
   "metadata": {},
   "source": [
    "# Trial-and-error"
   ]
  },
  {
   "cell_type": "code",
   "execution_count": 16,
   "metadata": {},
   "outputs": [
    {
     "name": "stdout",
     "output_type": "stream",
     "text": [
      "Accuracy: 0.74 (+/- 0.016124515496597113) [Logistic Regression]\n",
      "Accuracy: 0.717 (+/- 0.016911534525287777) [Random Forest]\n",
      "Accuracy: 0.7110000000000001 (+/- 0.027459060435491945) [naive Bayes]\n",
      "Accuracy: 0.703 (+/- 0.006000000000000005) [Multi-Layer Perceptron]\n",
      "Accuracy: 0.718 (+/- 0.029933259094191526) [Bagging_DT]\n",
      "Accuracy: 0.7569999999999999 (+/- 0.019646882704388517) [Ensemble]\n"
     ]
    }
   ],
   "source": [
    "from sklearn import datasets\n",
    "from sklearn.model_selection import cross_val_score\n",
    "from sklearn.linear_model import LogisticRegression\n",
    "from sklearn.naive_bayes import GaussianNB\n",
    "from sklearn.neural_network import MLPClassifier\n",
    "from sklearn.ensemble import RandomForestClassifier\n",
    "from sklearn.ensemble import BaggingClassifier\n",
    "from sklearn import tree\n",
    "from sklearn.ensemble import VotingClassifier\n",
    "\n",
    "col_to_drop = ['other_parties', 'other_payment_plans', 'existing_loans']\n",
    "train_data_dropped = train_data.drop(col_to_drop, axis=1)\n",
    "cols_dummy_dropped = [col for col in train_data_dropped.columns if train_data_dropped[col].dtype != 'int64']\n",
    "train_df_dropped = pd.get_dummies(train_data_dropped, columns=cols_dummy_dropped)\n",
    "\n",
    "X_ = train_df_dropped.drop(['accepted'], axis=1).as_matrix()\n",
    "y_ = train_df_dropped['accepted'].as_matrix()\n",
    "\n",
    "clf1 = LogisticRegression(random_state=1)\n",
    "clf2 = RandomForestClassifier(random_state=1)\n",
    "clf3 = GaussianNB()\n",
    "clf4 = MLPClassifier(hidden_layer_sizes=100, solver='lbfgs')\n",
    "clf5 = BaggingClassifier(tree.DecisionTreeClassifier(), max_samples=1.0, max_features=0.5)\n",
    "\n",
    "eclf = VotingClassifier(estimators=[('lr', clf1), ('rf', clf2), ('gnb', clf3), ('mlp', clf4), ('bagging', clf5)], voting='soft', weights=[3, 3, 1, 1, 2])\n",
    "\n",
    "for clf, label in zip([clf1, clf2, clf3, clf4, clf5, eclf], ['Logistic Regression', 'Random Forest', 'naive Bayes', 'Multi-Layer Perceptron', 'Bagging_DT', 'Ensemble']):\n",
    "    scores = cross_val_score(clf, X_, y_, cv=5, scoring='accuracy')\n",
    "    print(\"Accuracy: {} (+/- {}) [{}]\".format(scores.mean(), scores.std(), label))"
   ]
  },
  {
   "cell_type": "code",
   "execution_count": 27,
   "metadata": {},
   "outputs": [
    {
     "name": "stdout",
     "output_type": "stream",
     "text": [
      "Accuracy: 0.752 (+/- 0.018055470085267804) [Logistic Regression]\n",
      "Accuracy: 0.7249999999999999 (+/- 0.017888543819998333) [Random Forest]\n",
      "Accuracy: 0.704 (+/- 0.02437211521390786) [naive Bayes]\n",
      "Accuracy: 0.6989999999999998 (+/- 0.0020000000000000018) [Multi-Layer Perceptron]\n",
      "Accuracy: 0.718 (+/- 0.015684387141358135) [Bagging_DT]\n",
      "Accuracy: 0.757 (+/- 0.012489995996796807) [Ensemble]\n"
     ]
    }
   ],
   "source": [
    "from sklearn import datasets\n",
    "from sklearn.model_selection import cross_val_score\n",
    "from sklearn.linear_model import LogisticRegression\n",
    "from sklearn.naive_bayes import GaussianNB\n",
    "from sklearn.neural_network import MLPClassifier\n",
    "from sklearn.ensemble import RandomForestClassifier\n",
    "from sklearn.ensemble import BaggingClassifier\n",
    "from sklearn import tree\n",
    "from sklearn.ensemble import VotingClassifier\n",
    "\n",
    "col_to_drop = ['other_parties', 'other_payment_plans', 'existing_loans']\n",
    "train_data_dropped = train_data.drop(col_to_drop, axis=1)\n",
    "cols_dummy_dropped = [col for col in train_data_dropped.columns if train_data_dropped[col].dtype != 'int64']\n",
    "cols_dummy_dropped += ['installment_commitment', 'residence_since', 'num_dependents']\n",
    "train_df_dropped = pd.get_dummies(train_data_dropped, columns=cols_dummy_dropped)\n",
    "\n",
    "X_ = train_df_dropped.drop(['accepted'], axis=1).as_matrix()\n",
    "y_ = train_df_dropped['accepted'].as_matrix()\n",
    "\n",
    "clf1 = LogisticRegression(random_state=1)\n",
    "clf2 = RandomForestClassifier(random_state=1)\n",
    "clf3 = GaussianNB()\n",
    "clf4 = MLPClassifier(hidden_layer_sizes=100, solver='lbfgs')\n",
    "clf5 = BaggingClassifier(tree.DecisionTreeClassifier(), max_samples=1.0, max_features=0.5)\n",
    "\n",
    "eclf = VotingClassifier(estimators=[('lr', clf1), ('rf', clf2), ('gnb', clf3), ('mlp', clf4), ('bagging', clf5)], voting='soft', weights=[3, 3, 1, 1, 2])\n",
    "\n",
    "for clf, label in zip([clf1, clf2, clf3, clf4, clf5, eclf], ['Logistic Regression', 'Random Forest', 'naive Bayes', 'Multi-Layer Perceptron', 'Bagging_DT', 'Ensemble']):\n",
    "    scores = cross_val_score(clf, X_, y_, cv=5, scoring='accuracy')\n",
    "    print(\"Accuracy: {} (+/- {}) [{}]\".format(scores.mean(), scores.std(), label))"
   ]
  },
  {
   "cell_type": "code",
   "execution_count": 32,
   "metadata": {},
   "outputs": [
    {
     "name": "stderr",
     "output_type": "stream",
     "text": [
      "C:\\ProgramData\\Anaconda3\\lib\\site-packages\\sklearn\\utils\\validation.py:475: DataConversionWarning: Data with input dtype int64 was converted to float64 by MinMaxScaler.\n",
      "  warnings.warn(msg, DataConversionWarning)\n"
     ]
    },
    {
     "name": "stdout",
     "output_type": "stream",
     "text": [
      "Accuracy: 0.7550000000000001 (+/- 0.021908902300206663) [Logistic Regression]\n",
      "Accuracy: 0.7259999999999999 (+/- 0.01827566688249708) [Random Forest]\n",
      "Accuracy: 0.6569999999999999 (+/- 0.08744140895479668) [naive Bayes]\n",
      "Accuracy: 0.711 (+/- 0.018275666882497082) [Multi-Layer Perceptron]\n",
      "Accuracy: 0.7169999999999999 (+/- 0.006782329983125274) [Bagging_DT]\n",
      "Accuracy: 0.752 (+/- 0.017204650534085267) [Ensemble]\n"
     ]
    }
   ],
   "source": [
    "from sklearn import datasets\n",
    "from sklearn.model_selection import cross_val_score\n",
    "from sklearn.linear_model import LogisticRegression\n",
    "from sklearn.naive_bayes import GaussianNB\n",
    "from sklearn.neural_network import MLPClassifier\n",
    "from sklearn.ensemble import RandomForestClassifier\n",
    "from sklearn.ensemble import BaggingClassifier\n",
    "from sklearn import tree\n",
    "from sklearn.ensemble import VotingClassifier\n",
    "from sklearn.preprocessing import MinMaxScaler\n",
    "\n",
    "col_to_drop = ['other_parties', 'other_payment_plans', 'existing_loans']\n",
    "train_data_dropped = train_data.drop(col_to_drop, axis=1)\n",
    "cols_dummy_dropped = [col for col in train_data_dropped.columns if train_data_dropped[col].dtype != 'int64']\n",
    "cols_dummy_dropped += ['installment_commitment', 'residence_since', 'num_dependents']\n",
    "train_df_dropped = pd.get_dummies(train_data_dropped, columns=cols_dummy_dropped)\n",
    "\n",
    "\n",
    "X_ = train_df_dropped.drop(['accepted'], axis=1).as_matrix()\n",
    "X_ = MinMaxScaler().fit_transform(X_)\n",
    "y_ = train_df_dropped['accepted'].as_matrix()\n",
    "\n",
    "clf1 = LogisticRegression(random_state=41)\n",
    "clf2 = RandomForestClassifier(random_state=1)\n",
    "clf3 = GaussianNB()\n",
    "clf4 = MLPClassifier(hidden_layer_sizes=100, solver='lbfgs')\n",
    "clf5 = BaggingClassifier(tree.DecisionTreeClassifier(), max_samples=1.0, max_features=0.5)\n",
    "\n",
    "eclf = VotingClassifier(estimators=[('lr', clf1), ('rf', clf2), ('gnb', clf3), ('mlp', clf4), ('bagging', clf5)], voting='soft', weights=[3, 3, 1, 1, 2])\n",
    "\n",
    "for clf, label in zip([clf1, clf2, clf3, clf4, clf5, eclf], ['Logistic Regression', 'Random Forest', 'naive Bayes', 'Multi-Layer Perceptron', 'Bagging_DT', 'Ensemble']):\n",
    "    scores = cross_val_score(clf, X_, y_, cv=5, scoring='accuracy')\n",
    "    print(\"Accuracy: {} (+/- {}) [{}]\".format(scores.mean(), scores.std(), label))"
   ]
  }
 ],
 "metadata": {
  "kernelspec": {
   "display_name": "Python 3",
   "language": "python",
   "name": "python3"
  },
  "language_info": {
   "codemirror_mode": {
    "name": "ipython",
    "version": 3
   },
   "file_extension": ".py",
   "mimetype": "text/x-python",
   "name": "python",
   "nbconvert_exporter": "python",
   "pygments_lexer": "ipython3",
   "version": "3.6.2"
  }
 },
 "nbformat": 4,
 "nbformat_minor": 2
}

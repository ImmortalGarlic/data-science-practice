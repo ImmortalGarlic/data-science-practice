{
 "cells": [
  {
   "cell_type": "code",
   "execution_count": 1,
   "metadata": {},
   "outputs": [],
   "source": [
    "import pandas as pd\n",
    "\n",
    "train_data = pd.read_csv('./loan_data_track1.csv')"
   ]
  },
  {
   "cell_type": "code",
   "execution_count": 2,
   "metadata": {},
   "outputs": [
    {
     "data": {
      "text/plain": [
       "Index(['checking_status', 'duration', 'loan_history', 'purpose', 'loan_amount',\n",
       "       'savings_status', 'employment', 'installment_commitment',\n",
       "       'personal_status', 'other_parties', 'residence_since',\n",
       "       'property_magnitude', 'age', 'other_payment_plans', 'housing',\n",
       "       'existing_loans', 'job', 'num_dependents', 'own_telephone',\n",
       "       'foreign_worker', 'accepted'],\n",
       "      dtype='object')"
      ]
     },
     "execution_count": 2,
     "metadata": {},
     "output_type": "execute_result"
    }
   ],
   "source": [
    "train_data.columns"
   ]
  },
  {
   "cell_type": "code",
   "execution_count": 3,
   "metadata": {},
   "outputs": [
    {
     "data": {
      "text/html": [
       "<div>\n",
       "<style>\n",
       "    .dataframe thead tr:only-child th {\n",
       "        text-align: right;\n",
       "    }\n",
       "\n",
       "    .dataframe thead th {\n",
       "        text-align: left;\n",
       "    }\n",
       "\n",
       "    .dataframe tbody tr th {\n",
       "        vertical-align: top;\n",
       "    }\n",
       "</style>\n",
       "<table border=\"1\" class=\"dataframe\">\n",
       "  <thead>\n",
       "    <tr style=\"text-align: right;\">\n",
       "      <th></th>\n",
       "      <th>checking_status</th>\n",
       "      <th>duration</th>\n",
       "      <th>loan_history</th>\n",
       "      <th>purpose</th>\n",
       "      <th>loan_amount</th>\n",
       "      <th>savings_status</th>\n",
       "      <th>employment</th>\n",
       "      <th>installment_commitment</th>\n",
       "      <th>personal_status</th>\n",
       "      <th>other_parties</th>\n",
       "      <th>...</th>\n",
       "      <th>property_magnitude</th>\n",
       "      <th>age</th>\n",
       "      <th>other_payment_plans</th>\n",
       "      <th>housing</th>\n",
       "      <th>existing_loans</th>\n",
       "      <th>job</th>\n",
       "      <th>num_dependents</th>\n",
       "      <th>own_telephone</th>\n",
       "      <th>foreign_worker</th>\n",
       "      <th>accepted</th>\n",
       "    </tr>\n",
       "  </thead>\n",
       "  <tbody>\n",
       "    <tr>\n",
       "      <th>0</th>\n",
       "      <td>&lt;0DM</td>\n",
       "      <td>6</td>\n",
       "      <td>Critical_acct_other_loans_existing</td>\n",
       "      <td>radio/television</td>\n",
       "      <td>1169</td>\n",
       "      <td>Unknown_or_no_savings_acct</td>\n",
       "      <td>&gt;7yrs</td>\n",
       "      <td>4</td>\n",
       "      <td>male_single</td>\n",
       "      <td>None</td>\n",
       "      <td>...</td>\n",
       "      <td>real_estate</td>\n",
       "      <td>67</td>\n",
       "      <td>none</td>\n",
       "      <td>own</td>\n",
       "      <td>m22</td>\n",
       "      <td>skilled_employee/official</td>\n",
       "      <td>1</td>\n",
       "      <td>Yes</td>\n",
       "      <td>yes</td>\n",
       "      <td>2</td>\n",
       "    </tr>\n",
       "    <tr>\n",
       "      <th>1</th>\n",
       "      <td>0_to_200DM</td>\n",
       "      <td>48</td>\n",
       "      <td>Existing_loans_paid_till_now</td>\n",
       "      <td>radio/television</td>\n",
       "      <td>5951</td>\n",
       "      <td>&lt;100DM</td>\n",
       "      <td>1_to_4yrs</td>\n",
       "      <td>2</td>\n",
       "      <td>female_divorced/separated/married</td>\n",
       "      <td>None</td>\n",
       "      <td>...</td>\n",
       "      <td>real_estate</td>\n",
       "      <td>22</td>\n",
       "      <td>none</td>\n",
       "      <td>own</td>\n",
       "      <td>e1</td>\n",
       "      <td>skilled_employee/official</td>\n",
       "      <td>1</td>\n",
       "      <td>No</td>\n",
       "      <td>yes</td>\n",
       "      <td>1</td>\n",
       "    </tr>\n",
       "    <tr>\n",
       "      <th>2</th>\n",
       "      <td>None</td>\n",
       "      <td>12</td>\n",
       "      <td>Critical_acct_other_loans_existing</td>\n",
       "      <td>education</td>\n",
       "      <td>2096</td>\n",
       "      <td>&lt;100DM</td>\n",
       "      <td>4_to_7yrs</td>\n",
       "      <td>2</td>\n",
       "      <td>male_single</td>\n",
       "      <td>None</td>\n",
       "      <td>...</td>\n",
       "      <td>real_estate</td>\n",
       "      <td>49</td>\n",
       "      <td>none</td>\n",
       "      <td>own</td>\n",
       "      <td>1</td>\n",
       "      <td>unskilled_resident</td>\n",
       "      <td>2</td>\n",
       "      <td>No</td>\n",
       "      <td>yes</td>\n",
       "      <td>2</td>\n",
       "    </tr>\n",
       "    <tr>\n",
       "      <th>3</th>\n",
       "      <td>&lt;0DM</td>\n",
       "      <td>42</td>\n",
       "      <td>Existing_loans_paid_till_now</td>\n",
       "      <td>furniture/equipment</td>\n",
       "      <td>7882</td>\n",
       "      <td>&lt;100DM</td>\n",
       "      <td>4_to_7yrs</td>\n",
       "      <td>2</td>\n",
       "      <td>male_single</td>\n",
       "      <td>guarantor</td>\n",
       "      <td>...</td>\n",
       "      <td>building_society_savings_agreement/life_insurance</td>\n",
       "      <td>45</td>\n",
       "      <td>none</td>\n",
       "      <td>for_free</td>\n",
       "      <td>q1</td>\n",
       "      <td>skilled_employee/official</td>\n",
       "      <td>2</td>\n",
       "      <td>No</td>\n",
       "      <td>yes</td>\n",
       "      <td>2</td>\n",
       "    </tr>\n",
       "    <tr>\n",
       "      <th>4</th>\n",
       "      <td>&lt;0DM</td>\n",
       "      <td>24</td>\n",
       "      <td>Delay_in_past</td>\n",
       "      <td>new_car</td>\n",
       "      <td>4870</td>\n",
       "      <td>&lt;100DM</td>\n",
       "      <td>1_to_4yrs</td>\n",
       "      <td>3</td>\n",
       "      <td>male_single</td>\n",
       "      <td>None</td>\n",
       "      <td>...</td>\n",
       "      <td>unknown/no_property</td>\n",
       "      <td>53</td>\n",
       "      <td>none</td>\n",
       "      <td>for_free</td>\n",
       "      <td>p22</td>\n",
       "      <td>skilled_employee/official</td>\n",
       "      <td>2</td>\n",
       "      <td>No</td>\n",
       "      <td>yes</td>\n",
       "      <td>1</td>\n",
       "    </tr>\n",
       "  </tbody>\n",
       "</table>\n",
       "<p>5 rows × 21 columns</p>\n",
       "</div>"
      ],
      "text/plain": [
       "  checking_status  duration                        loan_history  \\\n",
       "0            <0DM         6  Critical_acct_other_loans_existing   \n",
       "1      0_to_200DM        48        Existing_loans_paid_till_now   \n",
       "2            None        12  Critical_acct_other_loans_existing   \n",
       "3            <0DM        42        Existing_loans_paid_till_now   \n",
       "4            <0DM        24                       Delay_in_past   \n",
       "\n",
       "               purpose  loan_amount              savings_status employment  \\\n",
       "0     radio/television         1169  Unknown_or_no_savings_acct      >7yrs   \n",
       "1     radio/television         5951                      <100DM  1_to_4yrs   \n",
       "2            education         2096                      <100DM  4_to_7yrs   \n",
       "3  furniture/equipment         7882                      <100DM  4_to_7yrs   \n",
       "4              new_car         4870                      <100DM  1_to_4yrs   \n",
       "\n",
       "   installment_commitment                    personal_status other_parties  \\\n",
       "0                       4                        male_single          None   \n",
       "1                       2  female_divorced/separated/married          None   \n",
       "2                       2                        male_single          None   \n",
       "3                       2                        male_single     guarantor   \n",
       "4                       3                        male_single          None   \n",
       "\n",
       "    ...                                    property_magnitude age  \\\n",
       "0   ...                                           real_estate  67   \n",
       "1   ...                                           real_estate  22   \n",
       "2   ...                                           real_estate  49   \n",
       "3   ...     building_society_savings_agreement/life_insurance  45   \n",
       "4   ...                                   unknown/no_property  53   \n",
       "\n",
       "   other_payment_plans   housing existing_loans                        job  \\\n",
       "0                 none       own            m22  skilled_employee/official   \n",
       "1                 none       own             e1  skilled_employee/official   \n",
       "2                 none       own              1         unskilled_resident   \n",
       "3                 none  for_free             q1  skilled_employee/official   \n",
       "4                 none  for_free            p22  skilled_employee/official   \n",
       "\n",
       "  num_dependents  own_telephone foreign_worker accepted  \n",
       "0              1            Yes            yes        2  \n",
       "1              1             No            yes        1  \n",
       "2              2             No            yes        2  \n",
       "3              2             No            yes        2  \n",
       "4              2             No            yes        1  \n",
       "\n",
       "[5 rows x 21 columns]"
      ]
     },
     "execution_count": 3,
     "metadata": {},
     "output_type": "execute_result"
    }
   ],
   "source": [
    "train_data.head()"
   ]
  },
  {
   "cell_type": "code",
   "execution_count": 4,
   "metadata": {},
   "outputs": [
    {
     "data": {
      "text/plain": [
       "['checking_status',\n",
       " 'loan_history',\n",
       " 'purpose',\n",
       " 'savings_status',\n",
       " 'employment',\n",
       " 'personal_status',\n",
       " 'other_parties',\n",
       " 'property_magnitude',\n",
       " 'other_payment_plans',\n",
       " 'housing',\n",
       " 'existing_loans',\n",
       " 'job',\n",
       " 'own_telephone',\n",
       " 'foreign_worker']"
      ]
     },
     "execution_count": 4,
     "metadata": {},
     "output_type": "execute_result"
    }
   ],
   "source": [
    "cols_dummy = [col for col in train_data.columns if train_data[col].dtype != 'int64']\n",
    "cols_dummy"
   ]
  },
  {
   "cell_type": "code",
   "execution_count": 5,
   "metadata": {},
   "outputs": [
    {
     "name": "stdout",
     "output_type": "stream",
     "text": [
      "checking_status: 4 / 1000;\n",
      "duration: 33 / 1000;\n",
      "loan_history: 5 / 1000;\n",
      "purpose: 10 / 1000;\n",
      "loan_amount: 921 / 1000;\n",
      "savings_status: 5 / 1000;\n",
      "employment: 5 / 1000;\n",
      "installment_commitment: 4 / 1000;\n",
      "personal_status: 4 / 1000;\n",
      "other_parties: 3 / 1000;\n",
      "residence_since: 4 / 1000;\n",
      "property_magnitude: 4 / 1000;\n",
      "age: 53 / 1000;\n",
      "other_payment_plans: 3 / 1000;\n",
      "housing: 3 / 1000;\n",
      "existing_loans: 301 / 1000;\n",
      "job: 4 / 1000;\n",
      "num_dependents: 2 / 1000;\n",
      "own_telephone: 2 / 1000;\n",
      "foreign_worker: 2 / 1000;\n",
      "accepted: 2 / 1000;\n"
     ]
    }
   ],
   "source": [
    "for col in train_data.columns:\n",
    "    print ('{}: {} / {};'.format(col, len(train_data[col].unique()), len(train_data)))"
   ]
  },
  {
   "cell_type": "code",
   "execution_count": 6,
   "metadata": {},
   "outputs": [],
   "source": [
    "train_df = pd.get_dummies(train_data, columns=cols_dummy)"
   ]
  },
  {
   "cell_type": "code",
   "execution_count": 60,
   "metadata": {},
   "outputs": [
    {
     "name": "stdout",
     "output_type": "stream",
     "text": [
      "758\n",
      "747\n"
     ]
    }
   ],
   "source": [
    "import numpy as np\n",
    "from sklearn.model_selection import train_test_split\n",
    "from sklearn.ensemble import RandomForestClassifier\n",
    "from sklearn.model_selection import cross_val_predict\n",
    "\n",
    "rf = RandomForestClassifier(n_estimators=20)\n",
    "\n",
    "X = train_df.drop(['accepted'], axis=1).as_matrix()\n",
    "y = train_df['accepted'].as_matrix()\n",
    "\n",
    "#y_pred = cross_val_predict(rf, X, y, cv=5, method='predict')\n",
    "y_pred_prob = [x[1] for x in cross_val_predict(rf, X, y, cv=5, method='predict_proba')]\n",
    "y_pred = [2 if x > 0.5 else 1 for x in y_pred_prob]\n",
    "y_pred_auc = [2 if x > 0.55 else 1 for x in y_pred_prob]\n",
    "print (sum([1 if y_pred[i] == y[i] else 0 for i in range(len(y))]))\n",
    "print (sum([1 if y_pred_auc[i] == y[i] else 0 for i in range(len(y))]))\n"
   ]
  },
  {
   "cell_type": "code",
   "execution_count": 10,
   "metadata": {},
   "outputs": [
    {
     "data": {
      "text/plain": [
       "733"
      ]
     },
     "execution_count": 10,
     "metadata": {},
     "output_type": "execute_result"
    }
   ],
   "source": [
    "from sklearn.ensemble import GradientBoostingClassifier\n",
    "\n",
    "gbm = GradientBoostingClassifier(n_estimators=20)\n",
    "y_pred = cross_val_predict(gbm, X, y, cv=5, method='predict')\n",
    "sum([1 if y_pred[i] == y[i] else 0 for i in range(len(y))])"
   ]
  },
  {
   "cell_type": "code",
   "execution_count": 18,
   "metadata": {},
   "outputs": [
    {
     "data": {
      "text/plain": [
       "738"
      ]
     },
     "execution_count": 18,
     "metadata": {},
     "output_type": "execute_result"
    }
   ],
   "source": [
    "from sklearn.ensemble import BaggingClassifier\n",
    "from sklearn import tree\n",
    "\n",
    "bag = BaggingClassifier(tree.DecisionTreeClassifier(), max_samples=1.0, max_features=0.5)\n",
    "y_pred = cross_val_predict(bag, X, y, cv=5, method='predict')\n",
    "sum([1 if y_pred[i] == y[i] else 0 for i in range(len(y))])"
   ]
  },
  {
   "cell_type": "code",
   "execution_count": 65,
   "metadata": {},
   "outputs": [
    {
     "data": {
      "text/plain": [
       "712"
      ]
     },
     "execution_count": 65,
     "metadata": {},
     "output_type": "execute_result"
    }
   ],
   "source": [
    "from sklearn.neural_network import MLPClassifier\n",
    "\n",
    "mlp = MLPClassifier(hidden_layer_sizes=100, solver='lbfgs')\n",
    "y_pred = cross_val_predict(mlp, X, y, cv=5, method='predict')\n",
    "sum([1 if y_pred[i] == y[i] else 0 for i in range(len(y))])"
   ]
  },
  {
   "cell_type": "code",
   "execution_count": 75,
   "metadata": {},
   "outputs": [
    {
     "name": "stdout",
     "output_type": "stream",
     "text": [
      "Accuracy: 0.752 (+/- 0.017204650534085267) [Logistic Regression]\n",
      "Accuracy: 0.719 (+/- 0.009695359714832668) [Random Forest]\n",
      "Accuracy: 0.643 (+/- 0.031240998703626646) [naive Bayes]\n",
      "Accuracy: 0.716 (+/- 0.016248076809271938) [Multi-Layer Perceptron]\n",
      "Accuracy: 0.719 (+/- 0.01200000000000001) [Bagging_DT]\n",
      "Accuracy: 0.739 (+/- 0.015620499351813323) [Ensemble]\n"
     ]
    }
   ],
   "source": [
    "from sklearn import datasets\n",
    "from sklearn.model_selection import cross_val_score\n",
    "from sklearn.linear_model import LogisticRegression\n",
    "from sklearn.naive_bayes import GaussianNB\n",
    "from sklearn.neural_network import MLPClassifier\n",
    "from sklearn.ensemble import RandomForestClassifier\n",
    "from sklearn.ensemble import BaggingClassifier\n",
    "from sklearn import tree\n",
    "from sklearn.ensemble import VotingClassifier\n",
    "\n",
    "X = train_df.drop(['accepted'], axis=1).as_matrix()\n",
    "y = train_df['accepted'].as_matrix()\n",
    "\n",
    "clf1 = LogisticRegression(random_state=1)\n",
    "clf2 = RandomForestClassifier(random_state=1)\n",
    "clf3 = GaussianNB()\n",
    "clf4 = MLPClassifier(hidden_layer_sizes=100, solver='lbfgs')\n",
    "clf5 = BaggingClassifier(tree.DecisionTreeClassifier(), max_samples=1.0, max_features=0.5)\n",
    "\n",
    "eclf = VotingClassifier(estimators=[('lr', clf1), ('rf', clf2), ('gnb', clf3), ('mlp', clf4), ('bagging', clf5)], voting='soft', weights=[3, 3, 1, 1, 2])\n",
    "\n",
    "for clf, label in zip([clf1, clf2, clf3, clf4, clf5, eclf], ['Logistic Regression', 'Random Forest', 'naive Bayes', 'Multi-Layer Perceptron', 'Bagging_DT', 'Ensemble']):\n",
    "    scores = cross_val_score(clf, X, y, cv=5, scoring='accuracy')\n",
    "    print(\"Accuracy: {} (+/- {}) [{}]\".format(scores.mean(), scores.std(), label))"
   ]
  },
  {
   "cell_type": "code",
   "execution_count": 74,
   "metadata": {},
   "outputs": [
    {
     "name": "stdout",
     "output_type": "stream",
     "text": [
      "0.752\n",
      "0.757\n"
     ]
    }
   ],
   "source": [
    "from sklearn.linear_model import LogisticRegression\n",
    "from sklearn.ensemble import RandomForestClassifier\n",
    "\n",
    "X = train_df.drop(['accepted'], axis=1).as_matrix()\n",
    "y = train_df['accepted'].as_matrix()\n",
    "\n",
    "clf1 = LogisticRegression(random_state=1)\n",
    "scores_1 = cross_val_score(clf1, X, y, cv=5, scoring='accuracy')\n",
    "print (scores_1.mean())\n",
    "\n",
    "clf2 = RandomForestClassifier(random_state=1, n_estimators=30)\n",
    "scores_2 = cross_val_score(clf2, X, y, cv=5, scoring='accuracy')\n",
    "print (scores_2.mean())"
   ]
  }
 ],
 "metadata": {
  "kernelspec": {
   "display_name": "Python 3",
   "language": "python",
   "name": "python3"
  },
  "language_info": {
   "codemirror_mode": {
    "name": "ipython",
    "version": 3
   },
   "file_extension": ".py",
   "mimetype": "text/x-python",
   "name": "python",
   "nbconvert_exporter": "python",
   "pygments_lexer": "ipython3",
   "version": "3.6.2"
  }
 },
 "nbformat": 4,
 "nbformat_minor": 2
}

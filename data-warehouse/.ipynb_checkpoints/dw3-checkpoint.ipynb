{
 "cells": [
  {
   "cell_type": "code",
   "execution_count": 3,
   "metadata": {},
   "outputs": [
    {
     "name": "stdout",
     "output_type": "stream",
     "text": [
      "['checking_status', 'loan_history', 'purpose', 'savings_status', 'employment', 'personal_status', 'other_parties', 'property_magnitude', 'other_payment_plans', 'housing', 'existing_loans', 'job', 'own_telephone', 'foreign_worker']\n"
     ]
    }
   ],
   "source": [
    "import pandas as pd\n",
    "\n",
    "train_data = pd.read_csv('./train.csv')\n",
    "cols_dummy = [col for col in train_data.columns if train_data[col].dtype != 'int64']\n",
    "print (cols_dummy)\n",
    "train_df = pd.get_dummies(train_data, columns=cols_dummy)\n",
    "\n",
    "X = train_df.drop(['accepted'], axis=1).as_matrix()\n",
    "y = train_df['accepted'].as_matrix()"
   ]
  },
  {
   "cell_type": "markdown",
   "metadata": {},
   "source": [
    "### existing_loans feature transformation"
   ]
  },
  {
   "cell_type": "code",
   "execution_count": 7,
   "metadata": {},
   "outputs": [
    {
     "data": {
      "text/plain": [
       "0    22\n",
       "1     1\n",
       "2     1\n",
       "3     1\n",
       "4    22\n",
       "Name: existing_loans, dtype: object"
      ]
     },
     "execution_count": 7,
     "metadata": {},
     "output_type": "execute_result"
    }
   ],
   "source": [
    "def alpha_num(string):\n",
    "    result = ''\n",
    "    for s in string:\n",
    "        if s.isdigit():\n",
    "            result += s\n",
    "    return result\n",
    "\n",
    "train_data.existing_loans.map(alpha_num).head()"
   ]
  }
 ],
 "metadata": {
  "kernelspec": {
   "display_name": "Python 3",
   "language": "python",
   "name": "python3"
  },
  "language_info": {
   "codemirror_mode": {
    "name": "ipython",
    "version": 3
   },
   "file_extension": ".py",
   "mimetype": "text/x-python",
   "name": "python",
   "nbconvert_exporter": "python",
   "pygments_lexer": "ipython3",
   "version": "3.6.3"
  }
 },
 "nbformat": 4,
 "nbformat_minor": 2
}
